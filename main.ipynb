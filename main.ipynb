{
 "cells": [
  {
   "cell_type": "markdown",
   "id": "f7d846ae",
   "metadata": {},
   "source": [
    "# Trabalho\n",
    "\n",
    "\n",
    "## Imports:"
   ]
  },
  {
   "cell_type": "code",
   "execution_count": 95,
   "id": "89deb885",
   "metadata": {},
   "outputs": [],
   "source": [
    "import json\n",
    "from pathlib import Path\n",
    "from typing import List, Tuple\n",
    "\n",
    "import joblib\n",
    "import numpy as np\n",
    "from sklearn.feature_extraction.text import CountVectorizer, TfidfVectorizer\n",
    "from sklearn.naive_bayes import MultinomialNB\n",
    "from sklearn.svm import LinearSVC\n",
    "from sklearn.pipeline import Pipeline\n",
    "from sklearn.model_selection import train_test_split\n",
    "from sklearn.metrics import classification_report\n",
    "import nltk\n",
    "import spacy\n",
    "import string\n",
    "import os"
   ]
  },
  {
   "cell_type": "markdown",
   "id": "24774281",
   "metadata": {},
   "source": [
    "## Definições:"
   ]
  },
  {
   "cell_type": "code",
   "execution_count": 83,
   "id": "bce5cc09",
   "metadata": {},
   "outputs": [],
   "source": [
    "# Path\n",
    "ASSETS_DIR = Path(\"./assets\")\n",
    "MODEL_DIR = Path(\"./models\")\n",
    "MODEL_DIR.mkdir(exist_ok=True)\n",
    "\n",
    "# Keywords\n",
    "KEYWORDS_MALICIOUS = {\"malicious\", \"malware\", \"trojan\", \"phishing\", \"botnet\", \"miner\"}\n",
    "KEYWORDS_SUSPICIOUS = {\"suspicious\", \"spam\", \"unrated\", \"risk\", \"unknown\"}\n",
    "RULE_WEIGHTS = {**{k: 1 for k in KEYWORDS_SUSPICIOUS}, **{k: 2 for k in KEYWORDS_MALICIOUS}}\n",
    "\n",
    "# ML pipeline\n",
    "PIPELINES = {\n",
    "    \"bow_nb\": Pipeline([\n",
    "        (\"vect\", CountVectorizer()),\n",
    "        (\"clf\", MultinomialNB()),\n",
    "    ]),\n",
    "    \"tfidf_svc\": Pipeline([\n",
    "        (\"tfidf\", TfidfVectorizer()),\n",
    "        (\"clf\", LinearSVC()),\n",
    "    ]),\n",
    "}"
   ]
  },
  {
   "cell_type": "markdown",
   "id": "acfb990c",
   "metadata": {},
   "source": [
    "## Carrega modelos"
   ]
  },
  {
   "cell_type": "code",
   "execution_count": 82,
   "id": "58c75115",
   "metadata": {},
   "outputs": [
    {
     "name": "stderr",
     "output_type": "stream",
     "text": [
      "[nltk_data] Downloading package stopwords to\n",
      "[nltk_data]     C:\\Users\\leoca\\AppData\\Roaming\\nltk_data...\n",
      "[nltk_data]   Package stopwords is already up-to-date!\n",
     ]
    }
   ],
   "source": [
    "nlp = spacy.load(\"en_core_web_sm\")\n",
    "nltk.download('stopwords')\n",
    "stopwords = nltk.corpus.stopwords.words('english')"
   ]
  },
  {
   "cell_type": "markdown",
   "id": "eaaa77c1",
   "metadata": {},
   "source": [
    "## Utils:"
   ]
  },
  {
   "cell_type": "code",
   "execution_count": 80,
   "id": "49c59252",
   "metadata": {},
   "outputs": [],
   "source": [
    "pontuacao_lista = list(string.punctuation.strip()) + ['...', '“', '”']"
   ]
  },
  {
   "cell_type": "code",
   "execution_count": null,
   "id": "1556710d",
   "metadata": {},
   "outputs": [],
   "source": [
    "# Lipeza de texto\n",
    "\n",
    "pontuacao_lista = list(string.punctuation.strip()) + ['...', '“', '”']\n",
    "\n",
    "def clean_text(text: str) -> str:\n",
    "    tokens = nlp(text)\n",
    "    tokens = [str(t).lower() for t in tokens if str(t) not in pontuacao_lista]\n",
    "    tokens = [str(t) for t in tokens if str(t) not in stopwords]\n",
    "    return \" \".join(tokens)\n",
    "\n",
    "# Carrega os relatórios e faz um pré-julgamento do relatório\n",
    "def load_reports() -> Tuple[List[str], List[str]]:\n",
    "    texts, labels = [], []\n",
    "    for file in ASSETS_DIR.glob(\"*.txt\"):\n",
    "        data = json.loads(file.read_text())\n",
    "        last_analysis_results = data['full']['attributes']['last_analysis_results']\n",
    "        malicious_count = 0\n",
    "        for _, value in last_analysis_results.items():\n",
    "            if value.get('category') in KEYWORDS_MALICIOUS or value.get('result') in KEYWORDS_MALICIOUS:\n",
    "                malicious_count += 1\n",
    "        label = (\n",
    "            \"malicioso\" if malicious_count >= 5 else\n",
    "            \"suspeito\" if 1 < malicious_count < 5 else\n",
    "            \"benigno\"\n",
    "        )\n",
    "        raw = json.dumps(data)\n",
    "        texts.append(clean_text(raw))\n",
    "        labels.append(label)\n",
    "    return texts, labels\n",
    "\n",
    "# Aplica regra de peso sob os relatórios\n",
    "def rule_based_predict(text: str) -> str:\n",
    "    score = sum(RULE_WEIGHTS.get(tok, 0) for tok in text.split())\n",
    "    if score >= 4:\n",
    "        return \"malicioso\"\n",
    "    if score >= 1:\n",
    "        return \"suspeito\"\n",
    "    return \"benigno\"\n",
    "\n",
    "# Classifica os relatórios\n",
    "def ensemble_predict(text: str, models) -> str:\n",
    "    preds = [m.predict([text])[0] for m in models.values()]\n",
    "    preds.append(rule_based_predict(text))\n",
    "    # Voto por maioria\n",
    "    return max(set(preds), key=preds.count)\n",
    "\n",
    "# Gera comentario com ba\n",
    "def generate_comment(label: str, raw_json: dict) -> str:\n",
    "    stats = raw_json[\"full\"][\"attributes\"].get(\"last_analysis_stats\", {})\n",
    "    mal = stats.get(\"malicious\", 0)\n",
    "    susp = stats.get(\"suspicious\", 0)\n",
    "    if label == \"malicioso\":\n",
    "        return f\"Indicador classificado como malicioso pois {mal} mecanismos antivírus o marcaram como malicioso.\"\n",
    "    if label == \"suspeito\":\n",
    "        return f\"Indicador classificado como suspeito com {susp} detecções suspeitas.\"\n",
    "    return \"Indicador classificado como benigno; nenhuma detecção relevante encontrada.\"\n"
   ]
  },
  {
   "cell_type": "markdown",
   "id": "e6f8752a",
   "metadata": {},
   "source": [
    "# Funções principais"
   ]
  },
  {
   "cell_type": "code",
   "execution_count": 98,
   "id": "16d4d8f1",
   "metadata": {},
   "outputs": [],
   "source": [
    "def train():\n",
    "    X, y = load_reports()\n",
    "    # Garante que nenhuma classe tenha menos de 2 amostras antes de usar stratify\n",
    "    from collections import Counter\n",
    "    counts = Counter(y)\n",
    "    X_train, X_test, y_train, y_test = train_test_split(\n",
    "        X, y, test_size=0.2, random_state=42\n",
    "    )\n",
    "    for name, pipe in PIPELINES.items():\n",
    "        pipe.fit(X_train, y_train)\n",
    "        joblib.dump(pipe, MODEL_DIR / f\"{name}.joblib\")\n",
    "        preds = pipe.predict(X_test)\n",
    "        print(f\"*** {name} ***\")\n",
    "        print(classification_report(y_test, preds, zero_division=0))\n",
    "    print(\"Treino concluído.\")\n",
    "\n",
    "    # carrega modelos treinados para uso imediato após o treino\n",
    "    return {name: joblib.load(MODEL_DIR / f\"{name}.joblib\") for name in PIPELINES}\n",
    "\n",
    "\n",
    "def predict(path: Path, models):\n",
    "    raw = json.loads(path.read_text())\n",
    "    text = clean_text(json.dumps(raw))\n",
    "    label = ensemble_predict(text, models)\n",
    "    comment = generate_comment(label, raw)\n",
    "    print(json.dumps({\"label\": label, \"comment\": comment}, ensure_ascii=False, indent=2))"
   ]
  },
  {
   "cell_type": "code",
   "execution_count": 99,
   "id": "23258e5f",
   "metadata": {},
   "outputs": [
    {
     "name": "stdout",
     "output_type": "stream",
     "text": [
      "*** bow_nb ***\n",
      "              precision    recall  f1-score   support\n",
      "\n",
      "   malicioso       0.00      0.00      0.00       0.0\n",
      "    suspeito       0.00      0.00      0.00       1.0\n",
      "\n",
      "    accuracy                           0.00       1.0\n",
      "   macro avg       0.00      0.00      0.00       1.0\n",
      "weighted avg       0.00      0.00      0.00       1.0\n",
      "\n",
      "*** tfidf_svc ***\n",
      "              precision    recall  f1-score   support\n",
      "\n",
      "     benigno       0.00      0.00      0.00       0.0\n",
      "    suspeito       0.00      0.00      0.00       1.0\n",
      "\n",
      "    accuracy                           0.00       1.0\n",
      "   macro avg       0.00      0.00      0.00       1.0\n",
      "weighted avg       0.00      0.00      0.00       1.0\n",
      "\n",
      "Treino concluído.\n"
     ]
    }
   ],
   "source": [
    "models = train()"
   ]
  },
  {
   "cell_type": "code",
   "execution_count": 101,
   "id": "52568cf5",
   "metadata": {},
   "outputs": [
    {
     "name": "stdout",
     "output_type": "stream",
     "text": [
      "Report for report.txt:\n",
      "{\n",
      "  \"label\": \"benigno\",\n",
      "  \"comment\": \"Indicador classificado como benigno; nenhuma detecção relevante encontrada.\"\n",
      "}\n",
      "Report for report2.txt:\n",
      "{\n",
      "  \"label\": \"malicioso\",\n",
      "  \"comment\": \"Indicador classificado como malicioso pois 2 mecanismos antivírus o marcaram como malicioso.\"\n",
      "}\n",
      "Report for report3.txt:\n",
      "{\n",
      "  \"label\": \"malicioso\",\n",
      "  \"comment\": \"Indicador classificado como malicioso pois 10 mecanismos antivírus o marcaram como malicioso.\"\n",
      "}\n",
      "Report for report4.txt:\n",
      "{\n",
      "  \"label\": \"suspeito\",\n",
      "  \"comment\": \"Indicador classificado como suspeito com 2 detecções suspeitas.\"\n",
      "}\n",
      "Report for report5.txt:\n",
      "{\n",
      "  \"label\": \"benigno\",\n",
      "  \"comment\": \"Indicador classificado como benigno; nenhuma detecção relevante encontrada.\"\n",
      "}\n"
     ]
    }
   ],
   "source": [
    "predict_path = './assets'\n",
    "for filename in os.listdir(predict_path):\n",
    "  print(f\"Report for {filename}:\")\n",
    "  file = Path(os.path.join(predict_path, filename))\n",
    "  predict(file, models)\n"
   ]
  }
 ],
 "metadata": {
  "language_info": {
   "name": "python"
  }
 },
 "nbformat": 4,
 "nbformat_minor": 5
}
