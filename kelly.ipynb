{
 "cells": [
  {
   "cell_type": "code",
   "execution_count": 6,
   "id": "859280db",
   "metadata": {},
   "outputs": [],
   "source": [
    "import json\n",
    "import re\n",
    "import spacy\n",
    "from sklearn.feature_extraction.text import TfidfVectorizer\n",
    "from sklearn.linear_model import LogisticRegression\n",
    "from sklearn.pipeline import Pipeline\n",
    "from sklearn.base import BaseEstimator, TransformerMixin"
   ]
  },
  {
   "cell_type": "code",
   "execution_count": 7,
   "id": "56bb7b81",
   "metadata": {},
   "outputs": [
    {
     "name": "stdout",
     "output_type": "stream",
     "text": [
      "Collecting en-core-web-sm==3.8.0\n",
      "  Using cached https://github.com/explosion/spacy-models/releases/download/en_core_web_sm-3.8.0/en_core_web_sm-3.8.0-py3-none-any.whl (12.8 MB)\n",
      "\u001b[38;5;2m✔ Download and installation successful\u001b[0m\n",
      "You can now load the package via spacy.load('en_core_web_sm')\n"
     ]
    }
   ],
   "source": [
    "!python -m spacy download en_core_web_sm"
   ]
  },
  {
   "cell_type": "code",
   "execution_count": 8,
   "id": "53adcab4",
   "metadata": {},
   "outputs": [],
   "source": [
    "# Carrega modelo spaCy\n",
    "nlp = spacy.load(\"en_core_web_sm\")"
   ]
  },
  {
   "cell_type": "code",
   "execution_count": 9,
   "id": "8de2f499",
   "metadata": {},
   "outputs": [],
   "source": [
    "# Limpeza e tokenização com spaCy\n",
    "class TextCleaner(BaseEstimator, TransformerMixin):\n",
    "    def clean_text(self, text):\n",
    "        text = text.lower()\n",
    "        text = re.sub(r\"http\\S+\", \"\", text)\n",
    "        text = re.sub(r\"[^a-zA-Z0-9\\s]\", \"\", text)\n",
    "        text = re.sub(r\"\\s+\", \" \", text)\n",
    "\n",
    "        doc = nlp(text)\n",
    "        tokens = [\n",
    "            token.lemma_ for token in doc\n",
    "            if not token.is_stop and not token.is_punct and token.is_alpha\n",
    "        ]\n",
    "        return \" \".join(tokens)\n",
    "\n",
    "    def fit(self, X, y=None):\n",
    "        return self\n",
    "\n",
    "    def transform(self, X):\n",
    "        return [self.clean_text(text) for text in X]"
   ]
  },
  {
   "cell_type": "code",
   "execution_count": 10,
   "id": "67b7de37",
   "metadata": {},
   "outputs": [],
   "source": [
    "# Classificação por regra simples\n",
    "def rule_based_classification(text):\n",
    "    text = text.lower()\n",
    "    if \"abuse\" in text or \"malicious\" in text:\n",
    "        return \"Malicioso\"\n",
    "    elif \"registro\" in text or \"whois\" in text:\n",
    "        return \"Possivelmente benigno\"\n",
    "    else:\n",
    "        return \"Desconhecido\""
   ]
  },
  {
   "cell_type": "code",
   "execution_count": 11,
   "id": "65baee6f",
   "metadata": {},
   "outputs": [],
   "source": [
    "# Modelo ML\n",
    "def train_ml_model():\n",
    "    texts = [\n",
    "        \"Malicious IP detected with 1/94 ratio\",\n",
    "        \"No malicious activity found\",\n",
    "        \"200 resolution(s) reported\",\n",
    "        \"Benign behavior observed\",\n",
    "        \"VT flagged this IP as malicious\",\n",
    "        \"Clean IP, no issues detected\",\n",
    "    ]\n",
    "    labels = [1, 0, 1, 0, 1, 0]\n",
    "\n",
    "    pipeline = Pipeline([\n",
    "        ('cleaner', TextCleaner()),\n",
    "        ('tfidf', TfidfVectorizer()),\n",
    "        ('clf', LogisticRegression())\n",
    "    ])\n",
    "    pipeline.fit(texts, labels)\n",
    "    return pipeline"
   ]
  },
  {
   "cell_type": "code",
   "execution_count": 12,
   "id": "864cb791",
   "metadata": {},
   "outputs": [],
   "source": [
    "# Extração dos níveis e valores das taxonomias\n",
    "def extract_taxonomy_info(taxonomies):\n",
    "    levels = []\n",
    "    values = []\n",
    "    for tax in taxonomies:\n",
    "        if 'level' in tax:\n",
    "            levels.append(tax['level'])\n",
    "        if 'value' in tax:\n",
    "            values.append(tax['value'])\n",
    "    return levels, values"
   ]
  },
  {
   "cell_type": "code",
   "execution_count": 13,
   "id": "26a573bb",
   "metadata": {},
   "outputs": [],
   "source": [
    "# Geração de comentário com base em regras e estatísticas\n",
    "def generate_comment(text, rule_label, stats):\n",
    "    comment = f\"Texto analisado: {text[:100]}... \"\n",
    "    comment += f\"Classificação inicial: {rule_label}. \"\n",
    "    if stats:\n",
    "        positives = stats.get(\"malicious\", 0)\n",
    "        total = sum(stats.values())\n",
    "        comment += f\"Detectado por {positives}/{total} mecanismos. \"\n",
    "    return comment"
   ]
  },
  {
   "cell_type": "code",
   "execution_count": 14,
   "id": "617d8555",
   "metadata": {},
   "outputs": [],
   "source": [
    "# Função principal\n",
    "def main_from_json(json_path):\n",
    "    with open(json_path, \"r\", encoding=\"utf-8\") as f:\n",
    "        data = json.load(f)\n",
    "\n",
    "    # Extrai partes específicas do relatório\n",
    "    whois_text = data[\"full\"][\"attributes\"].get(\"whois\", \"\")\n",
    "    stats = data[\"full\"][\"attributes\"].get(\"last_analysis_stats\", {})\n",
    "    taxonomies = data.get(\"summary\", {}).get(\"taxonomies\", [])\n",
    "\n",
    "    # Classificação por regra\n",
    "    rule_label = rule_based_classification(whois_text)\n",
    "\n",
    "    # Classificação por modelo\n",
    "    ml_pipeline = train_ml_model()\n",
    "    ml_label = ml_pipeline.predict([whois_text])[0]\n",
    "\n",
    "    # Processa taxonomias\n",
    "    taxonomy_levels, taxonomy_values = extract_taxonomy_info(taxonomies)\n",
    "\n",
    "    # Geração de comentário final\n",
    "    comment = generate_comment(whois_text, rule_label, stats)\n",
    "    if taxonomy_levels:\n",
    "        comment += f\" Classificação do relatório: {', '.join(taxonomy_levels)}.\"\n",
    "    if taxonomy_values:\n",
    "        comment += f\" Detalhes adicionais: {', '.join(taxonomy_values)}.\"\n",
    "\n",
    "    # Resultados\n",
    "    print(\"Classificação por Regras:\", rule_label)\n",
    "    print(\"Classificação por ML:\", \"Malicioso\" if ml_label == 1 else \"Benigno\")\n",
    "    print(\"Níveis da Taxonomia:\", taxonomy_levels)\n",
    "    print(\"Comentário Gerado:\", comment)"
   ]
  },
  {
   "cell_type": "code",
   "execution_count": 15,
   "id": "70e69350",
   "metadata": {},
   "outputs": [
    {
     "name": "stdout",
     "output_type": "stream",
     "text": [
      "Classificação por Regras: Malicioso\n",
      "Classificação por ML: Benigno\n",
      "Níveis da Taxonomia: ['malicious', 'malicious']\n",
      "Comentário Gerado: Texto analisado: NetRange: 104.16.0.0 - 104.31.255.255\n",
      "CIDR: 104.16.0.0/12\n",
      "NetName: CLOUDFLARENET\n",
      "NetHandle: NET-104-... Classificação inicial: Malicioso. Detectado por 1/94 mecanismos.  Classificação do relatório: malicious, malicious. Detalhes adicionais: 1/94, 200 resolution(s).\n"
     ]
    }
   ],
   "source": [
    "main_from_json(\"./assets/report.txt\")"
   ]
  }
 ],
 "metadata": {
  "kernelspec": {
   "display_name": "venv",
   "language": "python",
   "name": "python3"
  },
  "language_info": {
   "codemirror_mode": {
    "name": "ipython",
    "version": 3
   },
   "file_extension": ".py",
   "mimetype": "text/x-python",
   "name": "python",
   "nbconvert_exporter": "python",
   "pygments_lexer": "ipython3",
   "version": "3.11.9"
  }
 },
 "nbformat": 4,
 "nbformat_minor": 5
}
